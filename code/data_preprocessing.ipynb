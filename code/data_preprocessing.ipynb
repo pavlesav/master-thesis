{
 "cells": [
  {
   "cell_type": "markdown",
   "id": "cdce8ef6",
   "metadata": {},
   "source": [
    "# Data Loading and Preprocessing for Parliamentary Speeches\n",
    "\n",
    "This notebook provides a reusable function for processing parliamentary speech data from ParlaMint corpora. \n",
    "\n",
    "## Simplified Approach:\n",
    "- **Single output**: Returns one clean dataframe with raw text preserved\n",
    "- **Why?** Modern NLP models (embeddings, LIWC) work better with natural language\n",
    "- **Preprocessing**: Only applied where specifically needed (e.g., BERTopic stopwords)"
   ]
  },
  {
   "cell_type": "code",
   "execution_count": null,
   "id": "22638075",
   "metadata": {},
   "outputs": [],
   "source": [
    "import os\n",
    "import pandas as pd\n",
    "pd.set_option('display.max_columns', None)\n",
    "\n",
    "def process_parliament_data_parlamint5(parent_folder):\n",
    "    \"\"\"\n",
    "    Process ParlaMint 5.0 parliamentary speech data using meta.tsv and .txt only (ignore ana-meta.tsv).\n",
    "    Returns a single dataframe with all speeches and raw text.\n",
    "    \"\"\"\n",
    "    print(f\"Processing parliamentary data from: {parent_folder}\")\n",
    "    df_list = []\n",
    "    year_folders = sorted([f for f in os.listdir(parent_folder) if os.path.isdir(os.path.join(parent_folder, f))])\n",
    "    print(f\"Found {len(year_folders)} year folders, from {year_folders[0]} to {year_folders[-1]}\")\n",
    "    for year_folder in year_folders:\n",
    "        folder_path = os.path.join(parent_folder, year_folder)\n",
    "        meta_files = sorted([f for f in os.listdir(folder_path) if f.endswith('-meta.tsv') and not f.endswith('-ana-meta.tsv')])\n",
    "\n",
    "        for meta_file in meta_files:\n",
    "            base = meta_file.replace('-meta.tsv', '')\n",
    "            txt_file = base + '.txt'\n",
    "            meta_path = os.path.join(folder_path, meta_file)\n",
    "            txt_path = os.path.join(folder_path, txt_file)\n",
    "\n",
    "            try:\n",
    "                df_meta = pd.read_csv(meta_path, sep='\\t', encoding='utf-8', index_col=False)\n",
    "\n",
    "                # Load speech texts from .txt file (ID<TAB>Text)\n",
    "                text_map = {}\n",
    "                if os.path.exists(txt_path):\n",
    "                    with open(txt_path, encoding='utf-8') as f:\n",
    "                        for line in f:\n",
    "                            parts = line.strip().split('\\t', 1)\n",
    "                            if len(parts) == 2:\n",
    "                                text_map[parts[0]] = parts[1]\n",
    "\n",
    "                # Attach text to meta rows by ID\n",
    "                df_meta['Text'] = df_meta['ID'].map(text_map)\n",
    "\n",
    "                # Remove rows with missing text (None or NaN or empty string)\n",
    "                df_meta = df_meta[df_meta['Text'].notnull() & (df_meta['Text'].str.strip() != '')]\n",
    "\n",
    "                df_list.append(df_meta)\n",
    "\n",
    "            except Exception as e:\n",
    "                print(f\"    Error reading files {meta_file}, {txt_file}: {e}\")\n",
    "                continue\n",
    "\n",
    "    if not df_list:\n",
    "        raise ValueError(\"No data was successfully loaded from the specified folder structure\")\n",
    "\n",
    "    df_all = pd.concat(df_list, ignore_index=True)\n",
    "\n",
    "    return df_all"
   ]
  },
  {
   "cell_type": "markdown",
   "id": "fb9f4088",
   "metadata": {},
   "source": [
    "Process AT - Combine English and German versions"
   ]
  },
  {
   "cell_type": "code",
   "execution_count": 6,
   "id": "782c6cac",
   "metadata": {},
   "outputs": [
    {
     "name": "stdout",
     "output_type": "stream",
     "text": [
      "Processing parliamentary data from: data folder\\AT\\ParlaMint5.0-AT-en.ana\\ParlaMint-AT-en.txt\n",
      "Found 27 year folders, from 1996 to 2022\n",
      "Processing parliamentary data from: data folder\\AT\\ParlaMint5.0-AT\\ParlaMint-AT.txt\n",
      "Found 27 year folders, from 1996 to 2022\n",
      "Saved combined dataframe to 'AT_combined.pkl'\n",
      "#####################################\n",
      "Total speeches: 231759\n",
      "English text sample: Please take a seat. – I also ask the photographers to stop their activity. I may attend the first an\n",
      "German text sample: Bitte Platz zu nehmen. – Ich bitte auch die Photographen, ihre Tätigkeit einzustellen. Ich darf die \n",
      "Speaker_role\n",
      "Chairperson    125042\n",
      "Regular        106277\n",
      "Guest             440\n",
      "Name: count, dtype: int64\n"
     ]
    }
   ],
   "source": [
    "# Load English version\n",
    "parent_folder_en = r\"data folder\\AT\\ParlaMint5.0-AT-en.ana\\ParlaMint-AT-en.txt\"\n",
    "AT_en = process_parliament_data_parlamint5(parent_folder_en)\n",
    "\n",
    "# Load German version\n",
    "parent_folder_de = r\"data folder\\AT\\ParlaMint5.0-AT\\ParlaMint-AT.txt\"\n",
    "AT_german = process_parliament_data_parlamint5(parent_folder_de)\n",
    "\n",
    "# Merge on ID to combine both text versions\n",
    "AT_combined = AT_en.merge(AT_german[['ID', 'Text']], on='ID', how='inner', suffixes=('', '_native'))\n",
    "AT_combined = AT_combined.rename(columns={'Text_native': 'Text_native_language'})\n",
    "\n",
    "# Save the combined dataframe\n",
    "AT_combined.to_pickle(r'data folder\\AT\\AT_combined.pkl')\n",
    "print(f\"Saved combined dataframe to 'AT_combined.pkl'\")\n",
    "\n",
    "# Show a quick summary\n",
    "print(\"#####################################\")\n",
    "print('Total speeches:', len(AT_combined))\n",
    "print('English text sample:', AT_combined['Text'].iloc[0][:100])\n",
    "print('German text sample:', AT_combined['Text_native_language'].iloc[0][:100])\n",
    "print(AT_combined['Speaker_role'].value_counts())"
   ]
  },
  {
   "cell_type": "markdown",
   "id": "e43ca866",
   "metadata": {},
   "source": [
    "Process Croatia - Combine English and Croatian versions"
   ]
  },
  {
   "cell_type": "code",
   "execution_count": 7,
   "id": "c43eaa28",
   "metadata": {},
   "outputs": [
    {
     "name": "stdout",
     "output_type": "stream",
     "text": [
      "Processing parliamentary data from: data folder\\HR\\ParlaMint5.0-HR-en.ana\\ParlaMint-HR-en.txt\n",
      "Found 20 year folders, from 2003 to 2022\n",
      "Processing parliamentary data from: data folder\\HR\\ParlaMint5.0-HR\\ParlaMint-HR.txt\n",
      "Found 20 year folders, from 2003 to 2022\n",
      "Saved combined dataframe to 'HR_combined.pkl'\n",
      "#####################################\n",
      "Total speeches: 504338\n",
      "English text sample: Honored ladies and gentlemen. It has been my honor to open the first Constitutional session of the 5\n",
      "Croatian text sample: Cijenjene gospođe i gospodo. Pripala mi je čast da sukladno Poslovniku Hrvatskog sabora otvorim prvu\n",
      "Speaker_role\n",
      "Regular        257753\n",
      "Chairperson    246585\n",
      "Name: count, dtype: int64\n"
     ]
    }
   ],
   "source": [
    "# Load English version\n",
    "parent_folder_en = r\"data folder\\HR\\ParlaMint5.0-HR-en.ana\\ParlaMint-HR-en.txt\"\n",
    "HR_en = process_parliament_data_parlamint5(parent_folder_en)\n",
    "\n",
    "# Load Croatian version\n",
    "parent_folder_hr = r\"data folder\\HR\\ParlaMint5.0-HR\\ParlaMint-HR.txt\"\n",
    "HR_hr = process_parliament_data_parlamint5(parent_folder_hr)\n",
    "\n",
    "# Merge on ID to combine both text versions\n",
    "HR_combined = HR_en.merge(HR_hr[['ID', 'Text']], on='ID', how='inner', suffixes=('', '_native'))\n",
    "HR_combined = HR_combined.rename(columns={'Text_native': 'Text_native_language'})\n",
    "\n",
    "# Save the combined dataframe\n",
    "HR_combined.to_pickle(r'data folder\\HR\\HR_combined.pkl')\n",
    "print(f\"Saved combined dataframe to 'HR_combined.pkl'\")\n",
    "\n",
    "# Show a quick summary\n",
    "print(\"#####################################\")\n",
    "print('Total speeches:', len(HR_combined))\n",
    "print('English text sample:', HR_combined['Text'].iloc[0][:100])\n",
    "print('Croatian text sample:', HR_combined['Text_native_language'].iloc[0][:100])\n",
    "print(HR_combined['Speaker_role'].value_counts())"
   ]
  },
  {
   "cell_type": "markdown",
   "id": "61fa911a",
   "metadata": {},
   "source": [
    "Process GB (English only)"
   ]
  },
  {
   "cell_type": "code",
   "execution_count": 8,
   "id": "9f96c646",
   "metadata": {},
   "outputs": [
    {
     "name": "stdout",
     "output_type": "stream",
     "text": [
      "Processing parliamentary data from: data folder\\GB\\ParlaMint5.0-GB\\ParlaMint-GB.txt\n",
      "Found 8 year folders, from 2015 to 2022\n",
      "Saved dataframe to 'GB.pkl'\n",
      "#####################################\n",
      "Total speeches: 670912\n",
      "Speaker_role\n",
      "Regular        654567\n",
      "Chairperson     16345\n",
      "Name: count, dtype: int64\n"
     ]
    }
   ],
   "source": [
    "parent_folder = r\"data folder\\GB\\ParlaMint5.0-GB\\ParlaMint-GB.txt\"\n",
    "GB = process_parliament_data_parlamint5(parent_folder)\n",
    "\n",
    "# Save the dataframe\n",
    "GB.to_pickle(r'data folder\\GB\\GB.pkl')\n",
    "print(f\"Saved dataframe to 'GB.pkl'\")\n",
    "\n",
    "# Show a quick summary\n",
    "print(\"#####################################\")\n",
    "print('Total speeches:', len(GB))\n",
    "print(GB['Speaker_role'].value_counts())"
   ]
  }
 ],
 "metadata": {
  "kernelspec": {
   "display_name": "Python 3",
   "language": "python",
   "name": "python3"
  },
  "language_info": {
   "codemirror_mode": {
    "name": "ipython",
    "version": 3
   },
   "file_extension": ".py",
   "mimetype": "text/x-python",
   "name": "python",
   "nbconvert_exporter": "python",
   "pygments_lexer": "ipython3",
   "version": "3.13.2"
  }
 },
 "nbformat": 4,
 "nbformat_minor": 5
}
